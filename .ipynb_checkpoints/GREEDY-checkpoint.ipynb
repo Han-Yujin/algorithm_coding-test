{
 "cells": [
  {
   "cell_type": "code",
   "execution_count": 2,
   "id": "568f3d80",
   "metadata": {},
   "outputs": [
    {
     "name": "stdout",
     "output_type": "stream",
     "text": [
      "6\n"
     ]
    }
   ],
   "source": [
    "#동전 겟수 새기(p87)\n",
    "\n",
    "n = 1260\n",
    "count = 0\n",
    "coin_type = [500, 100, 50, 10]\n",
    "for coin in coin_type:\n",
    "    count += n // coin  # n을 coin으로 나눈 값 = coin의 갯수\n",
    "    n %= coin  # n을 coin을 나눈 나머지 값으로 다시 계산\n",
    "print(count)          \n",
    "    \n",
    "            "
   ]
  },
  {
   "cell_type": "code",
   "execution_count": 3,
   "id": "231e22f9",
   "metadata": {},
   "outputs": [
    {
     "name": "stdout",
     "output_type": "stream",
     "text": [
      "5 8 7\n",
      "2 4 5 4 6 \n",
      "46\n"
     ]
    }
   ],
   "source": [
    "#큰 수의 법칙 (P92)\n",
    "\n",
    "\n",
    "\n",
    "#N,M,K를 공백으로 구분하여 입력받기 \n",
    "n,m,k= map(int,input().split())\n",
    "#N개의 수를 공백으로 구분하여 입력받기 \n",
    "data = list(map(int,input().split()))\n",
    "\n",
    "data.sort # 입력받은 수 정렬\n",
    "first = data[n-1]\n",
    "second = data[n-2]\n",
    "\n",
    "\n",
    "count = int(m/(k+1))*k\n",
    "count+= m%(k+1)\n",
    "\n",
    "result =0\n",
    "result += (count) *first\n",
    "result += (m-count) * second\n",
    "print(result)\n",
    "\n",
    "\n",
    "\n",
    "# =============================================================================\n",
    "# result =0\n",
    "# \n",
    "# while True:\n",
    "#   for i in range(k):\n",
    "#     if m==0: #m이 0이라면 반복문 탈출 \n",
    "#       break\n",
    "#     result += first \n",
    "#     m-=1 # 더할 때 마다 1씩 빼기\n",
    "#   if m==0:\n",
    "#     break\n",
    "#   result += second\n",
    "#   m-=1 \n",
    "# print(result)\n",
    "# ============================================================================="
   ]
  },
  {
   "cell_type": "code",
   "execution_count": 6,
   "id": "1acd5cc8",
   "metadata": {},
   "outputs": [
    {
     "name": "stdout",
     "output_type": "stream",
     "text": [
      "3 3 \n",
      "3 1 2 \n",
      "4 1 4 \n",
      "2 2  2\n",
      "2\n"
     ]
    }
   ],
   "source": [
    "# 숫자 카드 게임 (p96)\n",
    "#M,N을 공백으로 구분하여 입력받기 \n",
    "n,m= map(int,input().split())\n",
    "result =0 \n",
    "# 한 줄씩 입력받아 확인 \n",
    "for i in range(n):\n",
    "   \n",
    "    data = list(map(int,input().split()))\n",
    "    # 입력받은 열의 길이가 다를경우 실행종료 \n",
    "    if (len(data)!= m):\n",
    "        break\n",
    "    else:\n",
    "        #현재 줄에서 가장 작은 수 찾기 \n",
    "        min_value = min(data)\n",
    "        # 가장 작은 수 들 중에서 가장 큰 수 찾기 \n",
    "        result = max(result,min_value)\n",
    "                \n",
    "   \n",
    "print(result)"
   ]
  },
  {
   "cell_type": "code",
   "execution_count": null,
   "id": "906b3889",
   "metadata": {},
   "outputs": [],
   "source": [
    "#1이 될 때까지(p99)\n",
    "n,k= map(int,input().split())\n",
    "result =0\n",
    "#N이 k이상이면 계속 나누기 \n",
    "while n>= k:\n",
    "    #n이 k로 나누어 떨어지지 않는다면 N에서 1씩 빼기 \n",
    "    while n %k !=0:\n",
    "        n-=1\n",
    "        result += 1\n",
    "        #print(n,k,\"1\")\n",
    "    #K로 나누기 \n",
    "    n //= k\n",
    "    result += 1\n",
    "    #print(n,k,\"2\")\n",
    " #마지막 남은 수에 대하여 1씩 빼기 (2) \n",
    "while n> 1:\n",
    "    n-=1\n",
    "    result += 1\n",
    "    #print(n,k,\"3\")\n",
    "print(result)"
   ]
  }
 ],
 "metadata": {
  "kernelspec": {
   "display_name": "Python 3 (ipykernel)",
   "language": "python",
   "name": "python3"
  },
  "language_info": {
   "codemirror_mode": {
    "name": "ipython",
    "version": 3
   },
   "file_extension": ".py",
   "mimetype": "text/x-python",
   "name": "python",
   "nbconvert_exporter": "python",
   "pygments_lexer": "ipython3",
   "version": "3.9.13"
  }
 },
 "nbformat": 4,
 "nbformat_minor": 5
}

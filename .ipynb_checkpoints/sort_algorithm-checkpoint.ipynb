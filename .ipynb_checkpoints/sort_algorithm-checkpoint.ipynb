{
 "cells": [
  {
   "cell_type": "markdown",
   "id": "bc61f216",
   "metadata": {},
   "source": [
    "### 정렬 - 데이터를 특정한 기준에 따라 순서대로 나열\n",
    "\n",
    "###### 선택정렬 \n",
    "- 데이터 중 가장 작은 데이터를 선택해 맨 앞에 데이터와 바꾸고, 그다음 작은 데이터를 선택해 앞에서 두번째 데이터와 바꾸는 과정 "
   ]
  },
  {
   "cell_type": "code",
   "execution_count": null,
   "id": "d851548b",
   "metadata": {},
   "outputs": [],
   "source": [
    "# 선택 정렬 소스 코드 \n",
    "array=[7,5,9,0,3,1,6,2,4,8]\n",
    "for i in range(len(array)):\n",
    "    min_index=i # 가장 작은 원소의 인덱스\n",
    "    \n",
    "    print(\"i문의 배열\",array[min_index])\n",
    "    print(\"*****************************\")\n",
    "    for j in range(i+1,len(array)):\n",
    "        print(\"min_index:\",array[min_index])\n",
    "        print(\"i:\",array[i])\n",
    "        print(\"j:\",array[j])\n",
    "        if array[min_index]>array[j]:\n",
    "            print(\"if문 j: \", array[j])\n",
    "            min_index = j\n",
    "        array[i],array[min_index]= array[min_index],array[i] #스와프 : 오른쪽의 값을 왼쪽의 변수에 넣는 과정\n",
    "        print(\"[change]min_index:\",array[min_index])\n",
    "        print(\"[change]i:\",array[i])\n",
    "        print(array)\n",
    "        print(\"===============================================\")\n",
    "    print(array)\n",
    "        \n",
    "print(\"정렬 후 결과:\",array)"
   ]
  },
  {
   "cell_type": "markdown",
   "id": "635b3de6",
   "metadata": {},
   "source": [
    "###### 삽입 정렬 \n",
    "- 특정 데이터를 적절한 위치에 삽입 한다는 의미 \n",
    "-  정렬되어있는 데이터 리스트에서 적절한 위치를 찾은 뒤 그 위치에 삽입 "
   ]
  },
  {
   "cell_type": "code",
   "execution_count": null,
   "id": "a4e5e0bf",
   "metadata": {},
   "outputs": [],
   "source": [
    "# 삽입 정렬 소스코드\n",
    "array=[7,5,9,0,1,6,2,4,8]\n",
    "# range(start,end,step)\n",
    "for i in range(1,len(array)):\n",
    "    for j in range(i,0,-1): # 인덱스 i부터 1까지 감소하며 반복하는 문법 \n",
    "        if array[j]< array[j-1]: # 한칸씩 왼쪽으로 이동 \n",
    "            array[j] , array[j-1] = array[j-1],array[j]\n",
    "        else: #자기보다 작은 데이터를 만나면 그 위치에서 멈춤 \n",
    "            break\n",
    "print(array)"
   ]
  },
  {
   "cell_type": "markdown",
   "id": "91ee2119",
   "metadata": {},
   "source": [
    "###### 퀵 정렬 \n",
    "- 기준을 설정한 다음 큰 수와 작은 수를 교환한 후 리스트를 반으로 나누는 방식으로 동작\n",
    "- 피벗 사용\n",
    " * 피벗 : 교환하기 위한 기준 \n",
    " - 피벗을 정한후 방향을 달리하여 한쪽으로는 피벗보다 큰 수 다른 한쪽으로는 피벗보다 작은 경우를 선택하여 두 수의 위치를 서로 교환한다."
   ]
  },
  {
   "cell_type": "code",
   "execution_count": null,
   "id": "60f047f0",
   "metadata": {},
   "outputs": [],
   "source": [
    "#  퀵 정렬 소스코드 \n",
    "array=[5,7,9,0,3,1,6,2,4,8]\n",
    "\n",
    "def quick_sort(array,start,end):\n",
    "    if start >= end :  #원소가 1개인 경우 종료 \n",
    "        return \n",
    "    pivot = start  # 피벗은 첫번째 원소 \n",
    "    left = start +1 \n",
    "    right = end \n",
    "    while left <= right :\n",
    "        # 피벗보다 큰 데이터를 찾을 때까지 반복 \n",
    "        while left <= end and array[left]<= array[pivot]:\n",
    "            left += 1\n",
    "        # 피벗보다 작은 데이터를 찾을 때까지 반복 \n",
    "        while right>start and array[right] >= array[pivot]:\n",
    "            right -= 1\n",
    "        if left > right : # 엇갈렸다면 작은 데이터와 피벗 교체 \n",
    "                #왼쪽의 수가 오른쪽의 수보다 큰 경우 \n",
    "            array[right], array[pivot] = array[pivot],array[right]\n",
    "        else : \n",
    "            array[left],array[right]= array[right],array[left]\n",
    "        \n",
    "    quick_sort(array,start,right -1)\n",
    "    quick_sort(array,right+1 , end)\n",
    "\n",
    "quick_sort(array,0,len(array)-1)\n",
    "print(array)"
   ]
  },
  {
   "cell_type": "code",
   "execution_count": null,
   "id": "e10d9a12",
   "metadata": {},
   "outputs": [],
   "source": [
    "# 파이썬의 장점을 살린 퀵정렬\n",
    "array=[5,7,9,0,3,1,6,2,4,8]\n",
    "def quick_sort(array):\n",
    "    if len(array)<= 1:\n",
    "        return array\n",
    "    pivot = array[0] # 피벗은 첫 번째 원소 \n",
    "    tail =  array[1:] # 피벗을 제외한 리스트 \n",
    "    \n",
    "    left_side = [x for x in tail if x<= pivot]#분활된 왼쪽부분\n",
    "    right_side = [x for x in tail if x > pivot] #분할된 오른쪽 부분\n",
    "    \n",
    "    #분할이후 왼쪽 부분과 오른쪽 부분에서 각각 정렬을 수행하고, 전체리스트 반환 \n",
    "    return quick_sort(left_side) + [pivot] + quick_sort(right_side)\n",
    "print(quick_sort(array))"
   ]
  },
  {
   "cell_type": "markdown",
   "id": "a749b678",
   "metadata": {},
   "source": [
    "퀵 정렬의 시간복잡도 = O(NlogN)   최악의 경우 : O(N^2) <br>\n",
    "선택 정렬과 삽입정렬의 시간복잡도 = O(N^2) 최악의 경우 : O(N^2)"
   ]
  },
  {
   "cell_type": "markdown",
   "id": "5811c9d7",
   "metadata": {},
   "source": [
    "###### 계수 정렬 \n",
    "- 특정한 조건이 부합할 때만 사용할 수 있지만 매우 빠른 정렬 알고리즘 \n",
    "- 데이터 개수 : N , 최대값 :k   => 최악인경우 포함 수행시간 O(N+K)\n",
    "- 데이터 크기 범위가 제한 되어 정수 형태로 표현할 수 있을 때만 가능 \n",
    " -  가장 작은데이터와 가장 큰 데이터의 차이가 1000000을 넘지 않을 때 효과적\n",
    "- 별도의 리스트를 선언하고 그 안에 정렬에 대한 정보를  담는다는 특징 \n",
    " - 1. 가장 큰 데이터와 가장 작은 데이터가 담길 수 있도록 하나의 리스트 생성 \n",
    " - 2. 데이터를 하나씩 확인하며 데이터의 값과 동일한 인덱스의 데이터를 1씩 증가"
   ]
  },
  {
   "cell_type": "code",
   "execution_count": null,
   "id": "3170354f",
   "metadata": {},
   "outputs": [],
   "source": [
    "# 계수 정렬 소스코드\n",
    "array=[7,5,9,0,3,1,6,2,9,1,4,8,0,5,2]\n",
    "# 모든 범위를 포함하는 리스트 선언(모든 값은 0으로 초기화)\n",
    "print(len(array))\n",
    "count =[0] * (max(array) +1)\n",
    "print(count) # [0, 0, 0, 0, 0, 0, 0, 0, 0, 0]\n",
    "\n",
    "for i in range(len(array)):\n",
    "    count[array[i]] +=1 # 각 데이터에 해당하는 인덱스의 값 증가 \n",
    "print(count)\n",
    "    \n",
    "for i in range(len(count)):\n",
    "    for j in range(count[i]):\n",
    "        print(i , end='  ') # 띄어쓰기 구분으로 등장한 횟수만큼 인덱스 출력 "
   ]
  },
  {
   "cell_type": "markdown",
   "id": "d8fba18d",
   "metadata": {},
   "source": [
    "### 실전문제"
   ]
  },
  {
   "cell_type": "code",
   "execution_count": 3,
   "id": "3e15b54b",
   "metadata": {},
   "outputs": [
    {
     "name": "stdout",
     "output_type": "stream",
     "text": [
      "정렬할 인수의 수:\n",
      "3\n",
      "======정렬할 인수=========\n",
      "15\n",
      "27\n",
      "12\n",
      "========정렬 결과=======\n",
      "27 15 12 "
     ]
    }
   ],
   "source": [
    "#위에서 아래로 (p178)\n",
    "print(\"정렬할 인수의 수:\")\n",
    "# n개 입력\n",
    "n= int(input())\n",
    "\n",
    "#파이썬 기본 정렬 라이브러리를 이용하여 정렬 수행\n",
    "print(\"======정렬할 인수=========\")\n",
    "array=[]\n",
    "for i in range(n):\n",
    "    array.append(int(input()))\n",
    "\n",
    "array=sorted(array,reverse=True)\n",
    "\n",
    "print(\"========정렬 결과=======\")\n",
    "#정렬이 수행된결과 출력\n",
    "for i in array:\n",
    "    print(i,end=' ')"
   ]
  },
  {
   "cell_type": "code",
   "execution_count": 7,
   "id": "1fa8329e",
   "metadata": {},
   "outputs": [
    {
     "name": "stdout",
     "output_type": "stream",
     "text": [
      "2\n",
      "이순신 89\n",
      "홍길동 99\n",
      "이순신 홍길동 "
     ]
    }
   ],
   "source": [
    "# 성적이 낮은 순서로 학생 출력 \n",
    "n= int(input())\n",
    "array=[]\n",
    "for i in range(n):\n",
    "    input_data= input().split()\n",
    "    #이름을 문자열 그대로, 점수는 정수형으로 변환하여 저장\n",
    "    array.append((input_data[0],int(input_data[1])))\n",
    "    \n",
    "#키 를 이용하여 점수를 기준으로 정렬\n",
    "array=sorted(array,key=lambda student:student[1])\n",
    "\n",
    "# 정렬이 수행된 결과 출력 \n",
    "for student in array:\n",
    "    print(student[0],end=' ')"
   ]
  },
  {
   "cell_type": "code",
   "execution_count": 1,
   "id": "a790ffc9",
   "metadata": {},
   "outputs": [
    {
     "name": "stdout",
     "output_type": "stream",
     "text": [
      "5 3\n",
      "1 2 5 4 3 \n",
      "5 5 6 6 5 \n",
      "26\n"
     ]
    }
   ],
   "source": [
    "#두 배열의 원소 교체\n",
    "n,k=map(int,input().split())\n",
    "\n",
    "a= list(map(int,input().split())) #배열 a의 모든원소 입력받기\n",
    "b= list(map(int,input().split())) #배열 a의 모든원소 입력받기\n",
    "\n",
    "##map 함수 : 배열or원소(여러개의 원소)를 특정형태로 저장하고 싶을 때 사용 \n",
    "\n",
    "a.sort() #a는 오름차순 \n",
    "b.sort(reverse=True)#b는 내림차순으로 정렬\n",
    "\n",
    "#첫 번재 인덱스부터 확인하며 두 배여르이 원소를 최대 k번 비교\n",
    "for i in range(k):\n",
    "    if a[i] < b[i]: \n",
    "        a[i],b[i] =b[i],a[i]\n",
    "    else:#A의 원소가 B의 원소보다 크거나 같을 때 , 반복문 탈출 \n",
    "        break\n",
    "print(sum(a))# 배열 a의 원소의 합 출력 \n",
    "\n"
   ]
  }
 ],
 "metadata": {
  "kernelspec": {
   "display_name": "Python 3 (ipykernel)",
   "language": "python",
   "name": "python3"
  },
  "language_info": {
   "codemirror_mode": {
    "name": "ipython",
    "version": 3
   },
   "file_extension": ".py",
   "mimetype": "text/x-python",
   "name": "python",
   "nbconvert_exporter": "python",
   "pygments_lexer": "ipython3",
   "version": "3.9.13"
  }
 },
 "nbformat": 4,
 "nbformat_minor": 5
}

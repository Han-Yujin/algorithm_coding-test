{
 "cells": [
  {
   "cell_type": "code",
   "execution_count": 4,
   "id": "c196ee9d",
   "metadata": {},
   "outputs": [
    {
     "name": "stdout",
     "output_type": "stream",
     "text": [
      "5\n",
      "R R R  U D D\n",
      "3 4\n"
     ]
    }
   ],
   "source": [
    "#상하좌우 (p110)\n",
    "\n",
    "#n을 입력받기 \n",
    "n= int (input())\n",
    "x,y=1,1 #초기 상태\n",
    "plans=input().split()  #가는 방향 입력받기\n",
    "dx =[0,0,-1,1]  # L R U D에 대한 x좌표 \n",
    "dy=[-1,1,0,0] # L R U D에 대한 y좌표\n",
    "move_types=['L','R','U','D']\n",
    "\n",
    "#이동 계획을 하나씩 확인\n",
    "for plan in plans:\n",
    "    #이동 후 좌표 구하기 \n",
    "    for i in range(len(move_types)):\n",
    "        if plan == move_types[i]:\n",
    "            nx = x+dx[i] #x좌표\n",
    "            ny = y+dy[i]\n",
    "        #공간을 벗어나는 경우 무시\n",
    "    if nx<1 or ny<1 or nx>n or ny>n:\n",
    "        continue\n",
    "    x,y = nx,ny\n",
    "    \n",
    "    \n",
    "print(x,y)\n",
    "         \n",
    "            "
   ]
  },
  {
   "cell_type": "code",
   "execution_count": 5,
   "id": "4c6d4c31",
   "metadata": {},
   "outputs": [
    {
     "name": "stdout",
     "output_type": "stream",
     "text": [
      "5\n",
      "11475\n"
     ]
    }
   ],
   "source": [
    "#시각 (P113)\n",
    "\n",
    "h= int(input())\n",
    "\n",
    "count=0\n",
    "\n",
    "for i in range(h+1):\n",
    "    for j in range(60):\n",
    "        for k in range(60):\n",
    "            if '3' in str(i)+ str(j)+ str(k):\n",
    "                count += 1 \n",
    "print(count)"
   ]
  },
  {
   "cell_type": "code",
   "execution_count": 9,
   "id": "ccba1457",
   "metadata": {},
   "outputs": [
    {
     "name": "stdout",
     "output_type": "stream",
     "text": [
      "d5\n",
      "8\n"
     ]
    }
   ],
   "source": [
    "#왕실 나이트(p115)\n",
    "\n",
    "#현재 나이트의 위치 입력 받기 \n",
    "input_data= input()\n",
    "row = int(input_data[1]) #행의 위치 \n",
    "column = int(ord(input_data[0]))-int(ord('a'))+1 # 열의 위치 \n",
    "\n",
    "steps=[(-2,-1),(-1,-2),(1,-2),(2,-1),(2,1),(1,2),(-1,-2),(-2,1)]\n",
    "\n",
    "result =0\n",
    "\n",
    "for step in steps:\n",
    "    next_row = row+step[0] # 행의 이동 \n",
    "    next_column = column + step[1] # 열이 이동 \n",
    "    \n",
    "    #해당 위치로 이동이 가능하다면 카운트 증가 (8x8)\n",
    "    if next_row >= 1 and next_row<=8 and next_column>= 1 and next_column<=8:\n",
    "        result +=1\n",
    "print(result)"
   ]
  },
  {
   "cell_type": "code",
   "execution_count": 14,
   "id": "bb096687",
   "metadata": {},
   "outputs": [
    {
     "name": "stdout",
     "output_type": "stream",
     "text": [
      "4 4\n",
      "1 1 0\n",
      "1 1 1 1\n",
      "1 0 0 1\n",
      "1 1 0 1\n",
      "1 1 1 1\n",
      "3\n"
     ]
    }
   ],
   "source": [
    "# 게임 개발 (p118)\n",
    "\n",
    "# N, M을 공백을 기준으로 구분하여 입력받기\n",
    "n, m = map(int, input().split())\n",
    "\n",
    "# 방문한 위치를 저장하기 위한 맵을 생성하여 0으로 초기화\n",
    "d = [[0] * m for _ in range(n)]\n",
    "# 현재 캐릭터의 X 좌표, Y 좌표, 방향을 입력받기\n",
    "x, y, direction = map(int, input().split())\n",
    "d[x][y] = 1 # 현재 좌표 방문 처리\n",
    "\n",
    "# 전체 맵 정보를 입력받기\n",
    "array = []\n",
    "for i in range(n):\n",
    "    array.append(list(map(int, input().split())))\n",
    "\n",
    "# 북, 동, 남, 서 방향 정의\n",
    "dx = [-1, 0, 1, 0]\n",
    "dy = [0, 1, 0, -1]\n",
    "\n",
    "# 왼쪽으로 회전\n",
    "def turn_left():\n",
    "    global direction\n",
    "    direction -= 1\n",
    "    if direction == -1:\n",
    "        direction = 3\n",
    "\n",
    "# 시뮬레이션 시작\n",
    "count = 1\n",
    "turn_time = 0\n",
    "while True:\n",
    "    # 왼쪽으로 회전\n",
    "    turn_left()\n",
    "    nx = x + dx[direction]\n",
    "    ny = y + dy[direction]\n",
    "    # 회전한 이후 정면에 가보지 않은 칸이 존재하는 경우 이동\n",
    "    if d[nx][ny] == 0 and array[nx][ny] == 0:\n",
    "        d[nx][ny] = 1\n",
    "        x = nx\n",
    "        y = ny\n",
    "        count += 1\n",
    "        turn_time = 0\n",
    "        continue\n",
    "    # 회전한 이후 정면에 가보지 않은 칸이 없거나 바다인 경우\n",
    "    else:\n",
    "        turn_time += 1\n",
    "    # 네 방향 모두 갈 수 없는 경우\n",
    "    if turn_time == 4:\n",
    "        nx = x - dx[direction]\n",
    "        ny = y - dy[direction]\n",
    "        # 뒤로 갈 수 있다면 이동하기\n",
    "        if array[nx][ny] == 0:\n",
    "            x = nx\n",
    "            y = ny\n",
    "        # 뒤가 바다로 막혀있는 경우\n",
    "        else:\n",
    "            break\n",
    "        turn_time = 0\n",
    "\n",
    "# 정답 출력\n",
    "print(count)\n",
    "\n",
    "# 4 4 : 4X4맵 생성 \n",
    "# 1 1 0  (1,1)에 북쪽(0)을 바라보고 있는 캐릭터\n",
    "# 1 1 1 1   모두 바다\n",
    "# 1 0 0 1  바다 육지 육지 바다\n",
    "# 1 1 0 1   바다 바다 육지 바다 \n",
    "# 1 1 1 1   모두 바다\n",
    "# 3\n"
   ]
  }
 ],
 "metadata": {
  "kernelspec": {
   "display_name": "Python 3 (ipykernel)",
   "language": "python",
   "name": "python3"
  },
  "language_info": {
   "codemirror_mode": {
    "name": "ipython",
    "version": 3
   },
   "file_extension": ".py",
   "mimetype": "text/x-python",
   "name": "python",
   "nbconvert_exporter": "python",
   "pygments_lexer": "ipython3",
   "version": "3.9.13"
  }
 },
 "nbformat": 4,
 "nbformat_minor": 5
}
